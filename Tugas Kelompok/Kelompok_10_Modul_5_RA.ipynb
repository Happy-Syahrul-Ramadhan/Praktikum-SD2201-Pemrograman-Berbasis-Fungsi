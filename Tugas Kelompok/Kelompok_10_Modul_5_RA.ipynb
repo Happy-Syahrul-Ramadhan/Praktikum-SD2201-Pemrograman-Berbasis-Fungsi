{
  "nbformat": 4,
  "nbformat_minor": 0,
  "metadata": {
    "colab": {
      "provenance": []
    },
    "kernelspec": {
      "name": "python3",
      "display_name": "Python 3"
    },
    "language_info": {
      "name": "python"
    }
  },
  "cells": [
    {
      "cell_type": "code",
      "execution_count": 1,
      "metadata": {
        "colab": {
          "base_uri": "https://localhost:8080/"
        },
        "id": "NNK9ORxjkqCx",
        "outputId": "c59e73ab-d9e0-4275-8c65-bebc1139fe82"
      },
      "outputs": [
        {
          "output_type": "stream",
          "name": "stdout",
          "text": [
            "     A    B     C\n",
            "0  0.1  1.0  0.01\n",
            "1  0.2  2.0  0.02\n",
            "2  0.3  3.0  0.03\n",
            "3  0.4  4.0  0.04\n",
            "4  0.5  5.0  0.05\n"
          ]
        }
      ],
      "source": [
        "import pandas as pd\n",
        "\n",
        "# Contoh data yang akan dinormalisasi\n",
        "data = {\n",
        "    'A': [10, 20, 30, 40, 50],\n",
        "    'B': [100, 200, 300, 400, 500],\n",
        "    'C': [1, 2, 3, 4, 5]\n",
        "}\n",
        "\n",
        "# Mendefinisikan decorator untuk normalisasi Min-Max scaling dengan penutup (closure)\n",
        "def min_max_scale_decorator(min_val=0, max_val=1):\n",
        "    # Fungsi decorator\n",
        "    def decorator(func):\n",
        "        # Fungsi penutup (closure)\n",
        "        def norm(*args, **kwargs):\n",
        "            # Memanggil fungsi untuk mendapatkan data\n",
        "            df = func(*args, **kwargs)\n",
        "\n",
        "            # Melakukan normalisasi Min-Max scaling pada data\n",
        "            for column in df.select_dtypes(include=['number']):\n",
        "                df[column] = (df[column] - min_val) / (max_val - min_val)\n",
        "\n",
        "            # Mengembalikan data frame yang telah dinormalisasi\n",
        "            return df\n",
        "        return norm\n",
        "    return decorator\n",
        "\n",
        "# Menggunakan decorator untuk mendekorasi fungsi get_sample_data\n",
        "@min_max_scale_decorator(min_val=0, max_val=100)\n",
        "def get_sample_data():\n",
        "    return pd.DataFrame(data)\n",
        "\n",
        "# Contoh penggunaan\n",
        "normalized_data = get_sample_data()\n",
        "print(normalized_data)\n"
      ]
    }
  ]
}