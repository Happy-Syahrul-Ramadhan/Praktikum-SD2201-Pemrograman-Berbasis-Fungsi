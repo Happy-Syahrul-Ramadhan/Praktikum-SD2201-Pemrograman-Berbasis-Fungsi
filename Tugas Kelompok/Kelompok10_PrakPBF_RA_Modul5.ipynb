{
  "cells": [
    {
      "cell_type": "markdown",
      "metadata": {
        "id": "QPO4KCBe243T"
      },
      "source": [
        "Menerapkan decorator untuk normalisasi data dengan Min-Max scaling pada python"
      ]
    },
    {
      "cell_type": "code",
      "execution_count": 1,
      "metadata": {
        "id": "gBjg0cAt482B"
      },
      "outputs": [],
      "source": [
        "#mengimport library\n",
        "import pandas as pd"
      ]
    },
    {
      "cell_type": "code",
      "execution_count": 12,
      "metadata": {
        "id": "Z9clzOed4kGW"
      },
      "outputs": [],
      "source": [
        "#contoh data yg akan di normalisasi\n",
        "data = {\n",
        "        'A': [10, 20, 30, 40, 50],\n",
        "        'B': [100, 200, 300, 400, 500],\n",
        "        'C': [1, 2, 3, 4, 5]\n",
        "    }"
      ]
    },
    {
      "cell_type": "code",
      "execution_count": 14,
      "metadata": {
        "id": "yg7REviY5j0L"
      },
      "outputs": [],
      "source": [
        "# Mendefinisikan decorator untuk normalisasi Min-Max scaling\n",
        "def min_max_scale_decorator(func):\n",
        "    # Fungsi decorator\n",
        "    def norm(*args, **kwargs):\n",
        "        # Memanggil fungsi untuk mendapatkan data\n",
        "        df = func(*args, **kwargs)\n",
        "\n",
        "        # Melakukan normalisasi Min-Max scaling pada data\n",
        "        for column in df.select_dtypes(include=['number']):\n",
        "            df[column] = (df[column] - df[column].min()) / (df[column].max() - df[column].min())\n",
        "\n",
        "        # Mengembalikan data frame yang telah dinormalisasi\n",
        "        return df\n",
        "    return norm"
      ]
    },
    {
      "cell_type": "code",
      "execution_count": 10,
      "metadata": {
        "id": "KUEV4fyQ2c06"
      },
      "outputs": [],
      "source": [
        "# Menggunakan decorator untuk mendekorasi fungsi get_sample_data\n",
        "@min_max_scale_decorator\n",
        "def get_sample_data():\n",
        "    return pd.DataFrame(data)"
      ]
    },
    {
      "cell_type": "code",
      "execution_count": 13,
      "metadata": {
        "colab": {
          "base_uri": "https://localhost:8080/"
        },
        "id": "fAlFWsfy5OeG",
        "outputId": "09f17115-0451-417c-a715-92acd788b238"
      },
      "outputs": [
        {
          "name": "stdout",
          "output_type": "stream",
          "text": [
            "      A     B     C\n",
            "0  0.00  0.00  0.00\n",
            "1  0.25  0.25  0.25\n",
            "2  0.50  0.50  0.50\n",
            "3  0.75  0.75  0.75\n",
            "4  1.00  1.00  1.00\n"
          ]
        }
      ],
      "source": [
        "# Memanggil fungsi yang sudah didekorasi untuk mendapatkan data frame yang sudah dinormalisasi\n",
        "normalize_df = get_sample_data()\n",
        "print(normalize_df)"
      ]
    }
  ],
  "metadata": {
    "colab": {
      "provenance": []
    },
    "kernelspec": {
      "display_name": "Python 3",
      "name": "python3"
    },
    "language_info": {
      "codemirror_mode": {
        "name": "ipython",
        "version": 3
      },
      "file_extension": ".py",
      "mimetype": "text/x-python",
      "name": "python",
      "nbconvert_exporter": "python",
      "pygments_lexer": "ipython3",
      "version": "3.10.12"
    }
  },
  "nbformat": 4,
  "nbformat_minor": 0
}
